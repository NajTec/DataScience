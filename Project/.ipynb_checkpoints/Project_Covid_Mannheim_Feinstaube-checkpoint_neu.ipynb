{
 "cells": [
  {
   "cell_type": "markdown",
   "metadata": {},
   "source": [
    "# Covid-19 und Feinstaubdatenanalyse"
   ]
  },
  {
   "cell_type": "markdown",
   "metadata": {},
   "source": [
    "In der folgenden Datenanalyse wurden die Covid19-Daten des RKI und die Feinstaubdaten des Bundesministeriums zur Analyse verwendet. Es wurde untersucht ob die Daten aus Mannheim miteinander korrelieren.\n",
    "Für die Datengewinnung und Datenbearbeitung wurde Pandas, numpy und scipy verwendet.\n",
    "Für das Plotten der Daten, wurde die Matplotlib verwendet.\n",
    "\n",
    "- Gruppenmitglieder:\n",
    "    * Anna Kuhn \n",
    "    * Benjamin Hamm\n",
    "    * Michael Schulze\n",
    "    * Jan Klotter"
   ]
  },
  {
   "cell_type": "code",
   "execution_count": null,
   "metadata": {},
   "outputs": [],
   "source": [
    "#Abhängigkeiten importieren\n",
    "\n",
    "import pandas as pd\n",
    "import matplotlib.pyplot as plt \n",
    "from datetime import datetime\n",
    "from datetime import timedelta\n",
    "import numpy as np\n",
    "from scipy.stats import pearsonr\n",
    "import collections\n",
    "from scipy.ndimage.filters import uniform_filter1d\n",
    "import matplotlib.dates as mdates"
   ]
  },
  {
   "cell_type": "markdown",
   "metadata": {},
   "source": [
    "## 1. Datenaufbereitung \n",
    "\n",
    "Als ersten Schritt müssen die Daten aufbereitet werden. Die Corona-Daten von Mannheim liegen in mehreren Einträgen vor und müssen deshalb auf einen Tag aufsummiert werden. Fehlende Einträge werden auf 0 gesetzt."
   ]
  },
  {
   "cell_type": "code",
   "execution_count": null,
   "metadata": {},
   "outputs": [],
   "source": [
    "#Daten aus Datei auslesen mithilfe von Pandas\n",
    "\n",
    "covid_data_germany = pd.read_csv('RKI_COVID19.csv')\n",
    "feinstaub_data_mannheim = pd.read_csv('Luftqualitaet.csv',sep=';')"
   ]
  },
  {
   "cell_type": "markdown",
   "metadata": {},
   "source": [
    "Die folgende Zelle filtriert die Corona-Daten aus Mannheim heraus und lediglich alle Daten aus dem Jahr 2020 ab dem 25.Februar 2020."
   ]
  },
  {
   "cell_type": "code",
   "execution_count": null,
   "metadata": {},
   "outputs": [],
   "source": [
    "#Corona Daten nach Landkreis Mannheim filtern\n",
    "covid_data_mannheim = covid_data_germany[covid_data_germany['Landkreis'] == 'SK Mannheim' ]\n",
    "\n",
    "#Corona Daten nach Datum sortieren\n",
    "#sortedByDate_covid_data_mannheim = covid_data_mannheim.sort_values(by='Refdatum')\n",
    "\n",
    "#2021 Werte aussortiert\n",
    "covid_data_mannheim = covid_data_mannheim[\n",
    "        covid_data_mannheim['Refdatum'] <= '2020/12/31 00:00:00' ]\n"
   ]
  },
  {
   "cell_type": "markdown",
   "metadata": {},
   "source": [
    "Die Feinstaubdaten hatten viele Leerdaten, welche aussortiert werden mussten."
   ]
  },
  {
   "cell_type": "code",
   "execution_count": null,
   "metadata": {},
   "outputs": [],
   "source": [
    "#Tage an denen nicht aufgenommen wurde aussortieren\n",
    "feinstaub_data_mannheim = feinstaub_data_mannheim[feinstaub_data_mannheim['Feinstaub (PM₁₀) stündlich gleitendes Tagesmittel in µg/m³'] != '-']\n",
    "\n",
    "#Umweltbundesamt Eintrag aussortieren\n",
    "feinstaub_data_mannheim = feinstaub_data_mannheim[:-2]"
   ]
  },
  {
   "cell_type": "markdown",
   "metadata": {},
   "source": [
    "Damit die Anzahl der Covid-19-Fälle mit den Feinstaubdaten verglichen werden können, muss ein Tagesmittel für die Feinstaubdaten ausgerechnet werden. Die Covid-19-Fälle müssen auch gefiltert werden.\n",
    "Dadurch kann man die Anzahl der Covid-19-Fälle gegenüber dem Tagesmittel der Feinstaubdaten korrelieren lassen."
   ]
  },
  {
   "cell_type": "code",
   "execution_count": null,
   "metadata": {
    "scrolled": true
   },
   "outputs": [],
   "source": [
    "#Fallzahlen und Todeszahlen pro Tag bestimmen\n",
    "\n",
    "neuinfektionen_nach_datum = {}\n",
    "todesfaelle_nach_datum = {}\n",
    "\n",
    "for key, value in enumerate(covid_data_mannheim['Refdatum']):\n",
    "    if value[:10] not in neuinfektionen_nach_datum:\n",
    "        todesfaelle_nach_datum[value[:10]] = [np.array(covid_data_mannheim['AnzahlTodesfall'])[key]]\n",
    "        neuinfektionen_nach_datum[value[:10]] = [np.array(covid_data_mannheim['AnzahlFall'])[key]]\n",
    "    else:\n",
    "        todesfaelle_nach_datum[value[:10]].append(np.array(covid_data_mannheim['AnzahlTodesfall'])[key])\n",
    "        neuinfektionen_nach_datum[value[:10]].append(np.array(covid_data_mannheim['AnzahlFall'])[key])\n",
    "        \n",
    "        wert = neuinfektionen_nach_datum[value[:10]]\n",
    "        neuinfektionen_nach_datum[value[:10]] = [np.sum(np.array(wert))]\n",
    "    \n",
    "        wert = todesfaelle_nach_datum[value[:10]]\n",
    "        todesfaelle_nach_datum[value[:10]] = [np.sum(np.array(wert))]"
   ]
  },
  {
   "cell_type": "code",
   "execution_count": null,
   "metadata": {},
   "outputs": [],
   "source": [
    "#Tagesmittel Feinstaub (PM₁₀) pro Tag bestimmen\n",
    "\n",
    "feinstaub_data_mannheim_nach_datum = {}\n",
    "\n",
    "for key, value in enumerate(feinstaub_data_mannheim['Datum']):\n",
    "    if type(value) is float:\n",
    "        break;\n",
    "        \n",
    "    new_date = str(datetime.strptime(value[:10],\"%d.%m.%Y\"))[:10]\n",
    "    \n",
    "    if new_date not in feinstaub_data_mannheim_nach_datum:\n",
    "        \n",
    "        feinstaub_data_mannheim_nach_datum[new_date] = [np.array(feinstaub_data_mannheim['Feinstaub (PM₁₀) stündlich gleitendes Tagesmittel in µg/m³'])[key]]\n",
    "    else:\n",
    "        \n",
    "        feinstaub_data_mannheim_nach_datum[new_date].append(np.array(feinstaub_data_mannheim['Feinstaub (PM₁₀) stündlich gleitendes Tagesmittel in µg/m³'])[key])"
   ]
  },
  {
   "cell_type": "markdown",
   "metadata": {},
   "source": [
    "Tage an denen keine Feinstaubdaten aufgenommen wurden, müssen 0 gesetzt werden. Sonst werden NaN-Werte korreliert."
   ]
  },
  {
   "cell_type": "code",
   "execution_count": null,
   "metadata": {},
   "outputs": [],
   "source": [
    "#Tage an denen nicht aufgenommen wurde mit 0 auffüllen\n",
    "for datum in feinstaub_data_mannheim_nach_datum.keys():\n",
    "    \n",
    "    if datum.replace(\"-\", \"/\") not in neuinfektionen_nach_datum.keys():\n",
    "        neuinfektionen_nach_datum[datum.replace(\"-\", \"/\")] = [0]\n",
    "        todesfaelle_nach_datum[datum.replace(\"-\", \"/\")] = [0]\n",
    "    \n",
    "    feinstaub_data_mannheim_nach_datum[datum] = np.mean(np.array(feinstaub_data_mannheim_nach_datum[datum]))"
   ]
  },
  {
   "cell_type": "markdown",
   "metadata": {},
   "source": [
    "Die Daten müssen nach passenden Datum sortiert werden, da sonst falsche Tagesdaten miteinander korreliert werden."
   ]
  },
  {
   "cell_type": "code",
   "execution_count": null,
   "metadata": {},
   "outputs": [],
   "source": [
    "#Datum in richtiger Reihenfolge\n",
    "sorted_neuinfektionen_nach_datum = collections.OrderedDict(sorted(neuinfektionen_nach_datum.items()))\n",
    "sorted_todesfaelle_nach_datum = collections.OrderedDict(sorted(todesfaelle_nach_datum.items()))\n",
    "sorted_feinstaub_data_mannheim_nach_datum = collections.OrderedDict(sorted(feinstaub_data_mannheim_nach_datum.items()))\n",
    "\n",
    "anzahl_faelle_list = list(sorted_neuinfektionen_nach_datum.values())\n",
    "anzahl_tode_list = list(sorted_todesfaelle_nach_datum.values())\n",
    "feinstaub_list = list(sorted_feinstaub_data_mannheim_nach_datum.values())"
   ]
  },
  {
   "cell_type": "markdown",
   "metadata": {},
   "source": [
    "## 2.Explorative Datenanalyse\n",
    "\n",
    "Im folgenden Abschnitt werden die Daten Neuinfektionen gegenüber Feinstaubdaten geplottet."
   ]
  },
  {
   "cell_type": "code",
   "execution_count": null,
   "metadata": {},
   "outputs": [],
   "source": [
    "\n",
    "plt.scatter(feinstaub_list, anzahl_faelle_list)\n",
    "fig = plt.gcf()\n",
    "fig.set_size_inches(18.5,12)\n",
    "plt.xlim([5,40])\n",
    "plt.ylim([-5,100])\n",
    "plt.title(\"Neuinfektionen nach Datum gegenüber dem Tagesmittel von Feinstaub\")\n",
    "plt.ylabel(\"Neuinfektionen nach Datum\")\n",
    "plt.xlabel(\"Tagesmittel Feinstaub (PM₁₀) nach Datum\")\n",
    "plt.show()"
   ]
  },
  {
   "cell_type": "markdown",
   "metadata": {},
   "source": [
    "Aus dem Scatterplot kann man noch keinen linearen Zusammenhang zwischen den Daten erkennen.\n",
    "Es sieht sehr gestreut aus. Daher wird im Nachfolgenden noch eine Zeitleiste als Grafik erstellt, die die Coronafälle und Feinstaubmittelwerte auf der y-Achse angibt."
   ]
  },
  {
   "cell_type": "code",
   "execution_count": null,
   "metadata": {},
   "outputs": [],
   "source": [
    "plt.plot(anzahl_faelle_list,label=\"Anzahl der Faelle\")\n",
    "plt.plot(anzahl_tode_list,label=\"Anzahl der Toten\")\n",
    "plt.plot(feinstaub_list,label=\"Feinstaubmittel\")\n",
    "fig = plt.gcf()\n",
    "fig.set_size_inches(18.5,12)\n",
    "plt.title(\"Anzahl der Fälle, Anzahl der Toten und Feinstaubmittel am Tag in Mannheim am Tag\")\n",
    "plt.xlabel(\"Zeitraum vom 25.02.2020 - 31.12.2020\")\n",
    "plt.legend()\n",
    "plt.show()"
   ]
  },
  {
   "cell_type": "markdown",
   "metadata": {},
   "source": [
    "Anhand der Daten erkennt man schon teilweise eine gewisse Korrelation. Wenn die Feinstaub-Daten erhöht sind, sind auch die Anzahl der Fälle erhöht."
   ]
  },
  {
   "cell_type": "code",
   "execution_count": null,
   "metadata": {},
   "outputs": [],
   "source": [
    "plt.plot(anzahl_faelle_list[220:],label=\"Anzahl der Faelle\")\n",
    "plt.plot(anzahl_tode_list[220:],label=\"Anzahl der Todesfaelle\")\n",
    "plt.plot(feinstaub_list[220:],label=\"Feinstaubmittel am Tag\")\n",
    "fig = plt.gcf()\n",
    "fig.set_size_inches(15,10)\n",
    "plt.title(\"Anzahl Faelle,Tote und Feinstaubmittel ab dem 10.10.2020 in Mannheim am Tag\")\n",
    "plt.xlabel(\"10.10.2020 - 31.12.2020\")\n",
    "plt.legend()\n",
    "plt.show()"
   ]
  },
  {
   "cell_type": "markdown",
   "metadata": {},
   "source": []
  },
  {
   "cell_type": "code",
   "execution_count": null,
   "metadata": {},
   "outputs": [],
   "source": [
    "# Sollen wir die überhaupt drinnen behalten??? Man erkennt nichts :D \n",
    "# können wir gerne rausnehmen\n",
    "fig, axs = plt.subplots(2,2)\n",
    "fig.suptitle('Vertically stacked subplots')\n",
    "fig.set_size_inches(15,10)\n",
    "axs[0,0].scatter(anzahl_faelle_list, anzahl_tode_list)\n",
    "axs[0,1].scatter(anzahl_faelle_list[:-1], anzahl_tode_list[1:])\n",
    "axs[1,0].scatter(anzahl_faelle_list[:-2], anzahl_tode_list[2:])\n",
    "axs[1,1].scatter(anzahl_faelle_list[:-3], anzahl_tode_list[3:])\n",
    "plt.show()"
   ]
  },
  {
   "cell_type": "markdown",
   "metadata": {},
   "source": [
    "Im folgenden Plot wurde der Moving-Average der Anzahl der Todesfälle und die Anzahl der Corona-Fälle in Mannheim von 7 Tagen geplottet. (Da das RKI am Wochenende nur wenig Daten übermittel bekommt, haben wir auf eine Woche gerundet, damit die Wochenendschwankungen herausgefiltert werden.)"
   ]
  },
  {
   "cell_type": "code",
   "execution_count": null,
   "metadata": {},
   "outputs": [],
   "source": [
    "N = 7\n",
    "anzahl_faelle_list_rm = uniform_filter1d(anzahl_faelle_list, size=N)\n",
    "anzahl_tode_list_rm = uniform_filter1d(anzahl_tode_list, size=N)\n",
    "\n",
    "plt.plot(anzahl_faelle_list_rm[220:],label=\"MVA der Infektionsfaelle\")\n",
    "plt.plot(anzahl_tode_list_rm[220:] * 10,label=\"MVA der Todesfaelle\")\n",
    "fig = plt.gcf()\n",
    "fig.set_size_inches(15,10)\n",
    "plt.legend()\n",
    "plt.title(\"Moving Average über 7 Tage (Anzahl der Faelle, Anzahle der Todesfaelle) in Mannheim am Tag\")\n",
    "plt.xlabel(\"Zeitraum 10.10.2020 bis 31.12.2020\")\n",
    "plt.xticks(range(0,100,10))\n",
    "plt.ylabel(\"Anzahl der Faelle\")\n",
    "plt.show()"
   ]
  },
  {
   "cell_type": "markdown",
   "metadata": {},
   "source": [
    "Anhand der Abbildung erkennt man sehr gut, dass nach einem Peak der Infektionen, ein Paar Tage später die Todeszahlen ansteigen. Da wie gesagt, ein Anstieg der Infektionszahlen erst zeitversetzt einen Anstieg der Todeszahlen verursacht, wurden die Korrelation für verschiedene Tagesdifferenzen (0 bis 50) zwischen Infektionszeitpunkt und Todeszeitpunkt ermittelt."
   ]
  },
  {
   "cell_type": "code",
   "execution_count": null,
   "metadata": {},
   "outputs": [],
   "source": [
    "corrs = []\n",
    "#anzahl_faelle_float = list(map(float, anzahl_faelle_list_rm ))\n",
    "#anzahl_tode_float = list(map(float, anzahl_tode_list_rm )) \n",
    "\n",
    "anzahl_falle_float = [float(elem) for elem in anzahl_faelle_list_rm]\n",
    "anzahl_tode_float = [float(elem) for elem in anzahl_tode_list_rm]\n",
    "\n",
    "for i in range(1,50):\n",
    "    corr,p= pearsonr(anzahl_faelle_float[220:-i], anzahl_tode_float[220+i:])\n",
    "    corrs.append(corr)\n",
    "    \n",
    "plt.plot(corrs,label=\"Korrelationskoeffizient der Infektionsfaellen zu den Todesfaellen\")\n",
    "fig = plt.gcf()\n",
    "fig.set_size_inches(10,10)\n",
    "plt.xlabel(\"Tag nach Infektion\")\n",
    "plt.title(\"Tod/Tag der Infektion als Korrelationskoeffizient (Mannheim)\")\n",
    "plt.ylabel(\"Korrelationskoeffizient\")\n",
    "plt.show()"
   ]
  },
  {
   "cell_type": "markdown",
   "metadata": {},
   "source": [
    "Nach 11 und nach 18 Tagen ein Peak mit 0.38 als Korrelationskoeffizient, in klinischen Studien ist das eine Korrelation.\n",
    "(Korrelation bei 0-5 Tagen Differenz auch sehr hoch aus unbekanntem Grund)"
   ]
  },
  {
   "cell_type": "markdown",
   "metadata": {},
   "source": [
    "Zum Vergleich werden die Daten von gesamt Deutschland dargestellt.\n",
    "Zur besseren Visualisierung der Korrelation wird die Anzahl der Toten um den Faktor 10 erhöht und mit den Infektionszahlen in einem Plot dargestellt."
   ]
  },
  {
   "cell_type": "markdown",
   "metadata": {},
   "source": []
  },
  {
   "cell_type": "code",
   "execution_count": null,
   "metadata": {},
   "outputs": [],
   "source": [
    "covid_data_germany = pd.read_csv('covid-19.csv',sep=';')\n",
    "\n",
    "faelle_nach_datum = list(covid_data_germany['Faelle'])\n",
    "todesfaelle_nach_datum = list(covid_data_germany['Todesfaelle']*10)\n",
    "\n",
    "plt.plot(faelle_nach_datum,label=\"Anzahl der Faelle\") \n",
    "plt.plot(todesfaelle_nach_datum,label=\"Anzahl der Toten *10\")\n",
    "fig = plt.gcf()\n",
    "fig.set_size_inches(15,10)\n",
    "plt.legend()\n",
    "plt.title(\"Anzahl der Faelle in Deutschland im Vergleich mit den Toten am Tag vom 02.01.2020 - 31.12.2020\")\n",
    "plt.xlabel(\"Tag\")\n",
    "plt.ylabel(\"Anzahl der Faelle/Anzahl der Toten*10\")\n",
    "plt.show()"
   ]
  },
  {
   "cell_type": "raw",
   "metadata": {},
   "source": [
    "Des Weiteren wird eine Grafik geplottet, welche die Anzahl der Infektionen mit der Anzahl der Toten zwischen dem 10.10.2020 und 31.12.2020 in Deutschland dargestellt, da in diesem Zeitraum die Daten maximale Werte aufweisen und Zusammenhänge besser ersichtlich sind."
   ]
  },
  {
   "cell_type": "code",
   "execution_count": null,
   "metadata": {},
   "outputs": [],
   "source": [
    "plt.plot(faelle_nach_datum[220:],label=\"Anzahl der Faelle\")\n",
    "plt.plot(todesfaelle_nach_datum[220:],label=\"Anzahl der Toten\")\n",
    "fig = plt.gcf()\n",
    "fig.set_size_inches(15,10)\n",
    "plt.title(\"Anzahl der Faelle/Anzahl der Toten am Tag in Deutschland vom 10.10.2020 - 31.12.2020 \")\n",
    "plt.xlabel(\"Tag\")\n",
    "plt.ylabel(\"Anzahl der Faelle/Anzahl der Toten am Tag\")\n",
    "plt.show()"
   ]
  },
  {
   "cell_type": "raw",
   "metadata": {},
   "source": [
    "Aus bereits oben genannten Gründen wird wieder der 7 Tage Moving Average der Daten bestimmt."
   ]
  },
  {
   "cell_type": "code",
   "execution_count": null,
   "metadata": {},
   "outputs": [],
   "source": [
    "N = 7\n",
    "anzahl_faelle_list_rm = uniform_filter1d(faelle_nach_datum, size=N)\n",
    "anzahl_tode_list_rm = uniform_filter1d(todesfaelle_nach_datum, size=N)\n",
    "\n",
    "plt.plot(anzahl_faelle_list_rm,label=\"Anzahl der Faelle\")\n",
    "plt.plot(anzahl_tode_list_rm,label=\"Anzahl der Tode\")\n",
    "fig = plt.gcf()\n",
    "fig.set_size_inches(15,10)\n",
    "plt.title(\"Moving Average von 7 Tagen (Anzahl der Faelle/Anzahl der Toten am Tag) 02.01.2020 - 31.12.2020 \")\n",
    "plt.xlabel(\"Tag\")\n",
    "plt.ylabel(\"Anzahl der Faelle/Anzahl der Toten am Tag\")\n",
    "plt.show()"
   ]
  },
  {
   "cell_type": "code",
   "execution_count": null,
   "metadata": {},
   "outputs": [],
   "source": [
    "plt.plot(anzahl_faelle_list_rm[220:],label=\"Anzahl der Faelle\")\n",
    "plt.plot(anzahl_tode_list_rm[220:] * 10,label=\"Anzahl der Tode\")\n",
    "fig = plt.gcf()\n",
    "fig.set_size_inches(15,10)\n",
    "plt.title(\"Moving Average von 7 Tagen (Anzahl der Faelle/Anzahl der Toten am Tag) 10.10.2020 - 31.12.2020 \")\n",
    "plt.xlabel(\"Tag\")\n",
    "plt.ylabel(\"Anzahl der Faelle/Anzahl der Toten am Tag\")\n",
    "plt.show()"
   ]
  },
  {
   "cell_type": "raw",
   "metadata": {},
   "source": [
    "Außerdem wird die Korrelation bestimmt."
   ]
  },
  {
   "cell_type": "code",
   "execution_count": null,
   "metadata": {
    "scrolled": true
   },
   "outputs": [],
   "source": [
    "anzahl_faelle_list_rm = anzahl_faelle_list_rm[:-16]\n",
    "anzahl_tode_list_rm = anzahl_tode_list_rm[:-16]\n",
    "    \n",
    "corrs = []\n",
    "for i in range(1,50):\n",
    "    corr,p= pearsonr(anzahl_faelle_list_rm[220:-i], anzahl_tode_list_rm[220+i:])\n",
    "    corrs.append(corr)\n",
    "    \n",
    "plt.plot(corrs)\n",
    "plt.show()"
   ]
  },
  {
   "cell_type": "raw",
   "metadata": {},
   "source": [
    "Die Korrelation hat bei circa 22 Tagen ihr Maximum mit 0.95."
   ]
  },
  {
   "cell_type": "raw",
   "metadata": {},
   "source": [
    "Zusammenfassung:\n",
    "- Die Korrelation zwischen Feinstaubdaten und Coronadaten Mannheim gering, allerdings heißt dies nicht, dass durch Erhöhung der   Feinstaubwerte eine Erhöhung der Coronainfektionen hervorgerufen wird oder anders herum.\n",
    "- Die Korrelation zwischen Infektionen und Todeszahlen in Mannheim zeigt eine Korrelation von 0.38 an Tag 11 und Tag 18 auf\n",
    "- Die Korrelation zwischen Infektionen und Todeszahlen in Deutschland zeigt eine Korrelation von 0.95 bei ca. 22 Tagen"
   ]
  },
  {
   "cell_type": "raw",
   "metadata": {},
   "source": [
    "Herausforderungen:\n",
    "1. Daten einlesen (Datum konvertieren, nicht vorhandene Daten auffüllen, Daten aus mehreren Zellen aufsummieren)\n",
    "2. Zeitverschiebung von Coronainfektionen und Todeszahlen\n",
    "3. Korrelation am Anfang der Zeitdifferenz hoch"
   ]
  }
 ],
 "metadata": {
  "kernelspec": {
   "display_name": "Python 3",
   "language": "python",
   "name": "python3"
  },
  "language_info": {
   "codemirror_mode": {
    "name": "ipython",
    "version": 3
   },
   "file_extension": ".py",
   "mimetype": "text/x-python",
   "name": "python",
   "nbconvert_exporter": "python",
   "pygments_lexer": "ipython3",
   "version": "3.6.11"
  }
 },
 "nbformat": 4,
 "nbformat_minor": 2
}
