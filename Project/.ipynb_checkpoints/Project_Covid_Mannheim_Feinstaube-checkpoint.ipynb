{
 "cells": [
  {
   "cell_type": "code",
   "execution_count": 10,
   "metadata": {},
   "outputs": [],
   "source": [
    "import pandas as pd\n",
    "import matplotlib.pyplot as plt \n",
    "from datetime import datetime\n",
    "from statistics import mean\n",
    "\n",
    "##Aufgabenstellung\n",
    "\n",
    "#Pearson Test für Korrelation Fälle und Feinstaub\n",
    "#Pearson Test für Korrelation Tote und Feinstaub\n",
    "#Modell mit Ausgangsbeschränkung und ohne Ausgangsbeschränkung (Bonus für das Modell)\n"
   ]
  },
  {
   "cell_type": "code",
   "execution_count": 11,
   "metadata": {},
   "outputs": [],
   "source": [
    "covid_data = pd.read_csv('RKI_COVID19.csv')\n",
    "feinstaub_data = pd.read_csv('Luftqualitaet_DEBW098_Mannheim-Friedrichsring_2020-02-25_00-2021-01-01_00.csv',sep=';')"
   ]
  },
  {
   "cell_type": "code",
   "execution_count": 18,
   "metadata": {},
   "outputs": [
    {
     "name": "stdout",
     "output_type": "stream",
     "text": [
      "7464\n",
      "     Stationscode             Datum  \\\n",
      "0         DEBW098   25.02.2020 1:00   \n",
      "1         DEBW098  25.02.2020 02:00   \n",
      "2         DEBW098  25.02.2020 03:00   \n",
      "3         DEBW098  25.02.2020 04:00   \n",
      "4         DEBW098  25.02.2020 05:00   \n",
      "...           ...               ...   \n",
      "7459      DEBW098  31.12.2020 20:00   \n",
      "7460      DEBW098  31.12.2020 21:00   \n",
      "7461      DEBW098  31.12.2020 22:00   \n",
      "7462      DEBW098  31.12.2020 23:00   \n",
      "7463      DEBW098  31.12.2020 23:59   \n",
      "\n",
      "      Feinstaub (PM₁₀) stündlich gleitendes Tagesmittel in µg/m³  \\\n",
      "0                                                   8.0            \n",
      "1                                                   8.0            \n",
      "2                                                   8.0            \n",
      "3                                                   8.0            \n",
      "4                                                   8.0            \n",
      "...                                                 ...            \n",
      "7459                                               10.0            \n",
      "7460                                               10.0            \n",
      "7461                                               10.0            \n",
      "7462                                               11.0            \n",
      "7463                                               11.0            \n",
      "\n",
      "     Ozon (O₃) Ein-Stunden-Mittelwert in µg/m³  \\\n",
      "0                                            -   \n",
      "1                                            -   \n",
      "2                                            -   \n",
      "3                                            -   \n",
      "4                                            -   \n",
      "...                                        ...   \n",
      "7459                                         -   \n",
      "7460                                         -   \n",
      "7461                                         -   \n",
      "7462                                         -   \n",
      "7463                                         -   \n",
      "\n",
      "     Stickstoffdioxid (NO₂) Ein-Stunden-Mittelwert in µg/m³ Luftqualitätsindex  \n",
      "0                                                    10               sehr gut  \n",
      "1                                                     5               sehr gut  \n",
      "2                                                     4               sehr gut  \n",
      "3                                                     5               sehr gut  \n",
      "4                                                     9               sehr gut  \n",
      "...                                                 ...                    ...  \n",
      "7459                                                 37                    gut  \n",
      "7460                                                 26                    gut  \n",
      "7461                                                 21                    gut  \n",
      "7462                                                 18               sehr gut  \n",
      "7463                                                 14               sehr gut  \n",
      "\n",
      "[7464 rows x 6 columns]\n"
     ]
    }
   ],
   "source": [
    "mannheim_data = covid_data[covid_data['Landkreis'] == 'SK Mannheim']\n",
    "sorted_mannheimdata = mannheim_data.sort_values(by='Refdatum')\n",
    "sorted_feinstaubdata = feinstaub_data[feinstaub_data['Feinstaub (PM₁₀) stündlich gleitendes Tagesmittel in µg/m³'] != '-']\n",
    "new = sorted_feinstaubdata[:-1]\n",
    "print(len(new))\n",
    "print(new)"
   ]
  },
  {
   "cell_type": "code",
   "execution_count": 19,
   "metadata": {},
   "outputs": [
    {
     "name": "stdout",
     "output_type": "stream",
     "text": [
      "  Stationscode             Datum  \\\n",
      "0      DEBW098   25.02.2020 1:00   \n",
      "1      DEBW098  25.02.2020 02:00   \n",
      "2      DEBW098  25.02.2020 03:00   \n",
      "3      DEBW098  25.02.2020 04:00   \n",
      "4      DEBW098  25.02.2020 05:00   \n",
      "\n",
      "   Feinstaub (PM₁₀) stündlich gleitendes Tagesmittel in µg/m³  \\\n",
      "0                                                8.0            \n",
      "1                                                8.0            \n",
      "2                                                8.0            \n",
      "3                                                8.0            \n",
      "4                                                8.0            \n",
      "\n",
      "  Ozon (O₃) Ein-Stunden-Mittelwert in µg/m³  \\\n",
      "0                                         -   \n",
      "1                                         -   \n",
      "2                                         -   \n",
      "3                                         -   \n",
      "4                                         -   \n",
      "\n",
      "  Stickstoffdioxid (NO₂) Ein-Stunden-Mittelwert in µg/m³ Luftqualitätsindex  \n",
      "0                                                 10               sehr gut  \n",
      "1                                                  5               sehr gut  \n",
      "2                                                  4               sehr gut  \n",
      "3                                                  5               sehr gut  \n",
      "4                                                  9               sehr gut  \n",
      "<class 'str'>\n",
      "<class 'str'>\n"
     ]
    }
   ],
   "source": [
    "print(new.head())\n",
    "#print(sorted_mannheimdata.head())\n",
    "#print(sorted_mannheimdata['AnzahlFall'].sum())\n",
    "print(type(sorted_feinstaubdata['Datum'][0]))\n",
    "print(type(covid_data['Refdatum'][0]))"
   ]
  },
  {
   "cell_type": "code",
   "execution_count": 20,
   "metadata": {
    "scrolled": true
   },
   "outputs": [
    {
     "name": "stdout",
     "output_type": "stream",
     "text": [
      "298\n",
      "2607\n"
     ]
    }
   ],
   "source": [
    "#print(new)\n",
    "#date_ = [x.replace(\"'\",\"\") for x in new ]\n",
    "#print(date_)\n",
    "\n",
    "new_date = [datetime.strptime(x,\"%d.%m.%Y %H:%M\") for x in new['Datum'] ]\n",
    "\n",
    "new_list = []\n",
    "counter = 0\n",
    "sums = 0\n",
    "\n",
    "for elem in new['Feinstaub (PM₁₀) stündlich gleitendes Tagesmittel in µg/m³']:\n",
    "    if( counter > 24 ):\n",
    "        var = sums/24\n",
    "        new_list.append(var)\n",
    "        sums = 0\n",
    "        counter = 0\n",
    "        \n",
    "    else:\n",
    "        sums = sums + elem\n",
    "        counter = counter + 1\n",
    "        \n",
    "\n",
    "\n",
    "print(len(new_list))\n",
    "print(len(mannheim_data))"
   ]
  },
  {
   "cell_type": "code",
   "execution_count": 37,
   "metadata": {},
   "outputs": [
    {
     "name": "stdout",
     "output_type": "stream",
     "text": [
      "8355\n"
     ]
    },
    {
     "data": {
      "text/plain": [
       "[<matplotlib.lines.Line2D at 0xa3fc0f0>]"
      ]
     },
     "execution_count": 37,
     "metadata": {},
     "output_type": "execute_result"
    },
    {
     "data": {
      "image/png": "[encoded data removed]",
      "text/plain": [
       "<Figure size 432x288 with 1 Axes>"
      ]
     },
     "metadata": {
      "needs_background": "light"
     },
     "output_type": "display_data"
    }
   ],
   "source": [
    "covid_mannheim_2020 = sorted_mannheimdata[sorted_mannheimdata['Refdatum'] <= '2020/12/31 00:00:00' ]\n",
    "\n",
    "print(covid_mannheim_2020['AnzahlFall'].sum())\n",
    "\n",
    "plt.plot(covid_mannheim_2020['Refdatum'],covid_mannheim_2020['AnzahlFall'])"
   ]
  },
  {
   "cell_type": "code",
   "execution_count": 12,
   "metadata": {},
   "outputs": [
    {
     "data": {
      "text/plain": [
       "[<matplotlib.lines.Line2D at 0x911cc18>]"
      ]
     },
     "execution_count": 12,
     "metadata": {},
     "output_type": "execute_result"
    },
    {
     "data": {
      "image/png": "[encoded data removed]",
      "text/plain": [
       "<Figure size 432x288 with 1 Axes>"
      ]
     },
     "metadata": {
      "needs_background": "light"
     },
     "output_type": "display_data"
    }
   ],
   "source": [
    "plt.plot(new_date,new['Feinstaub (PM₁₀) stündlich gleitendes Tagesmittel in µg/m³'])"
   ]
  },
  {
   "cell_type": "code",
   "execution_count": null,
   "metadata": {},
   "outputs": [],
   "source": []
  }
 ],
 "metadata": {
  "kernelspec": {
   "display_name": "Python 3",
   "language": "python",
   "name": "python3"
  },
  "language_info": {
   "codemirror_mode": {
    "name": "ipython",
    "version": 3
   },
   "file_extension": ".py",
   "mimetype": "text/x-python",
   "name": "python",
   "nbconvert_exporter": "python",
   "pygments_lexer": "ipython3",
   "version": "3.7.1"
  }
 },
 "nbformat": 4,
 "nbformat_minor": 2
}
